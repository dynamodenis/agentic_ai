{
 "cells": [
  {
   "cell_type": "markdown",
   "metadata": {},
   "source": [
    "# Welcome to the start of your adventure in Agentic AI"
   ]
  },
  {
   "cell_type": "markdown",
   "metadata": {},
   "source": [
    "<table style=\"margin: 0; text-align: left; width:100%\">\n",
    "    <tr>\n",
    "        <td style=\"width: 150px; height: 150px; vertical-align: middle;\">\n",
    "            <img src=\"../assets/stop.png\" width=\"150\" height=\"150\" style=\"display: block;\" />\n",
    "        </td>\n",
    "        <td>\n",
    "            <h2 style=\"color:#ff7800;\">Are you ready for action??</h2>\n",
    "            <span style=\"color:#ff7800;\">Have you completed all the setup steps in the <a href=\"../setup/\">setup</a> folder?<br/>\n",
    "            Have you read the <a href=\"../README.md\">README</a>? Many common questions are answered here!<br/>\n",
    "            Have you checked out the guides in the <a href=\"../guides/01_intro.ipynb\">guides</a> folder?<br/>\n",
    "            Well in that case, you're ready!!\n",
    "            </span>\n",
    "        </td>\n",
    "    </tr>\n",
    "</table>"
   ]
  },
  {
   "cell_type": "markdown",
   "metadata": {},
   "source": [
    "<table style=\"margin: 0; text-align: left; width:100%\">\n",
    "    <tr>\n",
    "        <td style=\"width: 150px; height: 150px; vertical-align: middle;\">\n",
    "            <img src=\"../assets/tools.png\" width=\"150\" height=\"150\" style=\"display: block;\" />\n",
    "        </td>\n",
    "        <td>\n",
    "            <h2 style=\"color:#00bfff;\">This code is a live resource - keep an eye out for my updates</h2>\n",
    "            <span style=\"color:#00bfff;\">I push updates regularly. As people ask questions or have problems, I add more examples and improve explanations. As a result, the code below might not be identical to the videos, as I've added more steps and better comments. Consider this like an interactive book that accompanies the lectures.<br/><br/>\n",
    "            I try to send emails regularly with important updates related to the course. You can find this in the 'Announcements' section of Udemy in the left sidebar. You can also choose to receive my emails via your Notification Settings in Udemy. I'm respectful of your inbox and always try to add value with my emails!\n",
    "            </span>\n",
    "        </td>\n",
    "    </tr>\n",
    "</table>"
   ]
  },
  {
   "cell_type": "code",
   "execution_count": 1,
   "metadata": {},
   "outputs": [],
   "source": [
    "# First let's do an import. If you get an Import Error, double check that your Kernel is correct..\n",
    "\n",
    "from dotenv import load_dotenv\n"
   ]
  },
  {
   "cell_type": "code",
   "execution_count": 2,
   "metadata": {},
   "outputs": [
    {
     "data": {
      "text/plain": [
       "True"
      ]
     },
     "execution_count": 2,
     "metadata": {},
     "output_type": "execute_result"
    }
   ],
   "source": [
    "# Next it's time to load the API keys into environment variables\n",
    "# If this returns false, see the next cell!\n",
    "\n",
    "load_dotenv(override=True)"
   ]
  },
  {
   "cell_type": "markdown",
   "metadata": {},
   "source": [
    "### Wait, did that just output `False`??\n",
    "\n",
    "If so, the most common reason is that you didn't save your `.env` file after adding the key! Be sure to have saved.\n",
    "\n",
    "Also, make sure the `.env` file is named precisely `.env` and is in the project root directory (`agents`)\n",
    "\n",
    "By the way, your `.env` file should have a stop symbol next to it in Cursor on the left, and that's actually a good thing: that's Cursor saying to you, \"hey, I realize this is a file filled with secret information, and I'm not going to send it to an external AI to suggest changes, because your keys should not be shown to anyone else.\""
   ]
  },
  {
   "cell_type": "markdown",
   "metadata": {},
   "source": [
    "<table style=\"margin: 0; text-align: left; width:100%\">\n",
    "    <tr>\n",
    "        <td style=\"width: 150px; height: 150px; vertical-align: middle;\">\n",
    "            <img src=\"../assets/stop.png\" width=\"150\" height=\"150\" style=\"display: block;\" />\n",
    "        </td>\n",
    "        <td>\n",
    "            <h2 style=\"color:#ff7800;\">Final reminders</h2>\n",
    "            <span style=\"color:#ff7800;\">1. If you're not confident about Environment Variables or Web Endpoints / APIs, please read Topics 3 and 5 in this <a href=\"../guides/04_technical_foundations.ipynb\">technical foundations guide</a>.<br/>\n",
    "            2. If you want to use AIs other than OpenAI, like Gemini, DeepSeek or Ollama (free), please see the first section in this <a href=\"../guides/09_ai_apis_and_ollama.ipynb\">AI APIs guide</a>.<br/>\n",
    "            3. If you ever get a Name Error in Python, you can always fix it immediately; see the last section of this <a href=\"../guides/06_python_foundations.ipynb\">Python Foundations guide</a> and follow both tutorials and exercises.<br/>\n",
    "            </span>\n",
    "        </td>\n",
    "    </tr>\n",
    "</table>"
   ]
  },
  {
   "cell_type": "code",
   "execution_count": 3,
   "metadata": {},
   "outputs": [
    {
     "name": "stdout",
     "output_type": "stream",
     "text": [
      "OpenAI API Key exists and begins sk-k2Tk2\n"
     ]
    }
   ],
   "source": [
    "# Check the key - if you're not using OpenAI, check whichever key you're using! Ollama doesn't need a key.\n",
    "\n",
    "import os\n",
    "openai_api_key = os.getenv('OPENAI_API_KEY')\n",
    "\n",
    "if openai_api_key:\n",
    "    print(f\"OpenAI API Key exists and begins {openai_api_key[:8]}\")\n",
    "else:\n",
    "    print(\"OpenAI API Key not set - please head to the troubleshooting guide in the setup folder\")\n",
    "    \n"
   ]
  },
  {
   "cell_type": "code",
   "execution_count": 4,
   "metadata": {},
   "outputs": [],
   "source": [
    "# And now - the all important import statement\n",
    "# If you get an import error - head over to troubleshooting in the Setup folder\n",
    "# Even for other LLM providers like Gemini, you still use this OpenAI import - see Guide 9 for why\n",
    "\n",
    "from openai import OpenAI"
   ]
  },
  {
   "cell_type": "code",
   "execution_count": 5,
   "metadata": {},
   "outputs": [],
   "source": [
    "# And now we'll create an instance of the OpenAI class\n",
    "# If you're not sure what it means to create an instance of a class - head over to the guides folder (guide 6)!\n",
    "# If you get a NameError - head over to the guides folder (guide 6)to learn about NameErrors - always instantly fixable\n",
    "# If you're not using OpenAI, you just need to slightly modify this - precise instructions are in the AI APIs guide (guide 9)\n",
    "\n",
    "openai = OpenAI()"
   ]
  },
  {
   "cell_type": "code",
   "execution_count": 6,
   "metadata": {},
   "outputs": [],
   "source": [
    "# Create a list of messages in the familiar OpenAI format\n",
    "\n",
    "messages = [{\"role\": \"user\", \"content\": \"What is 2+2?\"}]"
   ]
  },
  {
   "cell_type": "code",
   "execution_count": 7,
   "metadata": {},
   "outputs": [
    {
     "name": "stdout",
     "output_type": "stream",
     "text": [
      "2 + 2 equals 4.\n"
     ]
    }
   ],
   "source": [
    "# And now call it! Any problems, head to the troubleshooting guide\n",
    "# This uses GPT 4.1 nano, the incredibly cheap model\n",
    "# The APIs guide (guide 9) has exact instructions for using even cheaper or free alternatives to OpenAI\n",
    "# If you get a NameError, head to the guides folder (guide 6) to learn about NameErrors - always instantly fixable\n",
    "\n",
    "response = openai.chat.completions.create(\n",
    "    model=\"gpt-4.1-nano\",\n",
    "    messages=messages\n",
    ")\n",
    "\n",
    "print(response.choices[0].message.content)\n"
   ]
  },
  {
   "cell_type": "code",
   "execution_count": 8,
   "metadata": {},
   "outputs": [],
   "source": [
    "# And now - let's ask for a question:\n",
    "\n",
    "question = \"Please propose a hard, challenging question to assess someone's IQ. Respond only with the question.\"\n",
    "messages = [{\"role\": \"user\", \"content\": question}]\n"
   ]
  },
  {
   "cell_type": "code",
   "execution_count": 9,
   "metadata": {},
   "outputs": [
    {
     "name": "stdout",
     "output_type": "stream",
     "text": [
      "If three hens lay three eggs in three days, how many eggs will six hens lay in six days?\n"
     ]
    }
   ],
   "source": [
    "# ask it - this uses GPT 4.1 mini, still cheap but more powerful than nano\n",
    "\n",
    "response = openai.chat.completions.create(\n",
    "    model=\"gpt-4.1-mini\",\n",
    "    messages=messages\n",
    ")\n",
    "\n",
    "question = response.choices[0].message.content\n",
    "\n",
    "print(question)\n"
   ]
  },
  {
   "cell_type": "code",
   "execution_count": 10,
   "metadata": {},
   "outputs": [],
   "source": [
    "# form a new messages list\n",
    "messages = [{\"role\": \"user\", \"content\": question}]\n"
   ]
  },
  {
   "cell_type": "code",
   "execution_count": 11,
   "metadata": {},
   "outputs": [
    {
     "name": "stdout",
     "output_type": "stream",
     "text": [
      "Let's analyze the problem step-by-step:\n",
      "\n",
      "- **Given:**  \n",
      "  3 hens lay 3 eggs in 3 days.\n",
      "\n",
      "- **Step 1:** Find the rate at which hens lay eggs.  \n",
      "  3 hens → 3 eggs / 3 days  \n",
      "  So, in 3 days, 3 hens lay 3 eggs.\n",
      "\n",
      "- **Step 2:** Find how many eggs one hen lays in 3 days.  \n",
      "  Since 3 hens lay 3 eggs in 3 days,  \n",
      "  1 hen lays 3 eggs / 3 hens = 1 egg in 3 days.\n",
      "\n",
      "- **Step 3:** Find how many eggs one hen lays in 1 day.  \n",
      "  1 egg / 3 days = 1/3 egg per hen per day.\n",
      "\n",
      "- **Step 4:** Find how many eggs 6 hens lay in 6 days.  \n",
      "  Eggs = (number of hens) × (eggs per hen per day) × (number of days)  \n",
      "  = 6 × (1/3) × 6  \n",
      "  = 6 × 2  \n",
      "  = 12 eggs\n",
      "\n",
      "**Answer:**  \n",
      "6 hens will lay **12 eggs** in 6 days.\n"
     ]
    }
   ],
   "source": [
    "# Ask it again\n",
    "\n",
    "response = openai.chat.completions.create(\n",
    "    model=\"gpt-4.1-mini\",\n",
    "    messages=messages\n",
    ")\n",
    "\n",
    "answer = response.choices[0].message.content\n",
    "print(answer)\n"
   ]
  },
  {
   "cell_type": "code",
   "execution_count": 12,
   "metadata": {},
   "outputs": [
    {
     "data": {
      "text/markdown": [
       "Let's analyze the problem step-by-step:\n",
       "\n",
       "- **Given:**  \n",
       "  3 hens lay 3 eggs in 3 days.\n",
       "\n",
       "- **Step 1:** Find the rate at which hens lay eggs.  \n",
       "  3 hens → 3 eggs / 3 days  \n",
       "  So, in 3 days, 3 hens lay 3 eggs.\n",
       "\n",
       "- **Step 2:** Find how many eggs one hen lays in 3 days.  \n",
       "  Since 3 hens lay 3 eggs in 3 days,  \n",
       "  1 hen lays 3 eggs / 3 hens = 1 egg in 3 days.\n",
       "\n",
       "- **Step 3:** Find how many eggs one hen lays in 1 day.  \n",
       "  1 egg / 3 days = 1/3 egg per hen per day.\n",
       "\n",
       "- **Step 4:** Find how many eggs 6 hens lay in 6 days.  \n",
       "  Eggs = (number of hens) × (eggs per hen per day) × (number of days)  \n",
       "  = 6 × (1/3) × 6  \n",
       "  = 6 × 2  \n",
       "  = 12 eggs\n",
       "\n",
       "**Answer:**  \n",
       "6 hens will lay **12 eggs** in 6 days."
      ],
      "text/plain": [
       "<IPython.core.display.Markdown object>"
      ]
     },
     "metadata": {},
     "output_type": "display_data"
    }
   ],
   "source": [
    "from IPython.display import Markdown, display\n",
    "\n",
    "display(Markdown(answer))\n",
    "\n"
   ]
  },
  {
   "cell_type": "markdown",
   "metadata": {},
   "source": [
    "# Congratulations!\n",
    "\n",
    "That was a small, simple step in the direction of Agentic AI, with your new environment!\n",
    "\n",
    "Next time things get more interesting..."
   ]
  },
  {
   "cell_type": "markdown",
   "metadata": {},
   "source": [
    "<table style=\"margin: 0; text-align: left; width:100%\">\n",
    "    <tr>\n",
    "        <td style=\"width: 150px; height: 150px; vertical-align: middle;\">\n",
    "            <img src=\"../assets/exercise.png\" width=\"150\" height=\"150\" style=\"display: block;\" />\n",
    "        </td>\n",
    "        <td>\n",
    "            <h2 style=\"color:#ff7800;\">Exercise</h2>\n",
    "            <span style=\"color:#ff7800;\">Now try this commercial application:<br/>\n",
    "            First ask the LLM to pick a business area that might be worth exploring for an Agentic AI opportunity.<br/>\n",
    "            Then ask the LLM to present a pain-point in that industry - something challenging that might be ripe for an Agentic solution.<br/>\n",
    "            Finally have 3 third LLM call propose the Agentic AI solution. <br/>\n",
    "            We will cover this at up-coming labs, so don't worry if you're unsure.. just give it a try!\n",
    "            </span>\n",
    "        </td>\n",
    "    </tr>\n",
    "</table>"
   ]
  },
  {
   "cell_type": "code",
   "execution_count": 16,
   "metadata": {},
   "outputs": [
    {
     "name": "stdout",
     "output_type": "stream",
     "text": [
      "One of the best businesses that Agentic AI can solve right now is **automated personalized sales outreach for B2B companies**.\n",
      "\n",
      "Agentic AI can autonomously research target companies, craft highly personalized messaging, schedule outreach, and handle follow-ups, significantly boosting sales efficiency and conversion rates without extensive human intervention. This reduces the workload on sales teams, accelerates pipeline development, and scales personalized marketing efforts effectively.\n",
      "Agentic AI can specifically solve several detailed areas within **automated personalized sales outreach for B2B companies**, including:\n",
      "\n",
      "1. **Lead Research and Qualification:**  \n",
      "   - Autonomously gathering and analyzing data on target companies and contacts (e.g., company size, industry trends, recent news, decision-maker roles, technology stack).  \n",
      "   - Prioritizing leads based on fit and likelihood to convert.\n",
      "\n",
      "2. **Personalized Messaging Generation:**  \n",
      "   - Crafting customized emails, LinkedIn messages, or calls scripts that reference specific company pain points, recent events, or relevant industry topics.  \n",
      "   - Adapting tone and style according to recipient’s profile or previous interactions.\n",
      "\n",
      "3. **Outreach Scheduling and Execution:**  \n",
      "   - Timing email sends, follow-ups or LinkedIn outreach to optimize open and response rates based on recipient behavior patterns.  \n",
      "   - Managing multi-channel engagement sequences automatically.\n",
      "\n",
      "4. **Follow-Up Management:**  \n",
      "   - Tracking responses and scheduling smart follow-ups tailored to recipient behavior (reminders, content sharing, addressing objections).  \n",
      "   - Escalating hot leads to human sales reps with detailed context.\n",
      "\n",
      "5. **Data Enrichment and CRM Updates:**  \n",
      "   - Enriching contact and account information dynamically throughout outreach.  \n",
      "   - Automatically logging interactions and updating CRM records to keep pipeline accurate and actionable.\n",
      "\n",
      "6. **Performance Analytics and Optimization:**  \n",
      "   - Monitoring outreach campaign metrics (open rates, reply rates, conversion rates).  \n",
      "   - Iteratively testing and refining messaging and sequencing for better results.\n",
      "\n",
      "In essence, Agentic AI can autonomously manage nearly the full cycle of personalized sales outreach—from initial research to follow-up—dramatically reducing manual tasks while enhancing precision and scalability.\n",
      "To set up an Agentic AI system that autonomously manages **personalized automated sales outreach for B2B companies** end-to-end as described, you would typically follow a structured approach involving integration of various AI capabilities, data sources, and workflow automation. Here’s a detailed step-by-step guide for how you can architect and implement such a system:\n",
      "\n",
      "---\n",
      "\n",
      "### 1. Define Goals and Scope\n",
      "- **Clarify objectives:** e.g., increase qualified leads, improve response rates, reduce manual sales workload.\n",
      "- **Target personas:** specify ideal customer profiles, target industries, company sizes.\n",
      "- **KPIs:** Conversion rates, open/reply rates, sales qualified leads, pipeline velocity.\n",
      "\n",
      "---\n",
      "\n",
      "### 2. Data Collection & Integration Layer (Lead Research and Qualification)\n",
      "- **Connect to data sources:**\n",
      "  - Public company databases (e.g., Crunchbase, LinkedIn Sales Navigator, ZoomInfo)\n",
      "  - News and social listening APIs for recent announcements/events\n",
      "  - Technology stack databases (e.g., BuiltWith)\n",
      "- **Automate lead scraping and updating:** use web scraping, APIs, or vendors.\n",
      "- **Data enrichment pipelines:** Enrich raw lead data with firmographics (size, revenue), technology use, recent news.\n",
      "- **Lead scoring engine:**\n",
      "  - Build a machine learning model or rules to score leads by fit and intent signals (e.g., tech adoption, funding announcements).\n",
      "  - Continuously refine based on campaign results.\n",
      "\n",
      "---\n",
      "\n",
      "### 3. Natural Language Generation (Personalized Messaging Generation)\n",
      "- **Develop persona-based prompt templates:**  \n",
      "  Embed variables like company pain points, recently published news, industry trends, decision-maker job roles.\n",
      "- **Use advanced LLMs (e.g., GPT-4+):**  \n",
      "  - Input: enriched lead data + outreach context  \n",
      "  - Output: personalized emails, LinkedIn messages, phone call scripts\n",
      "- **Tone adaptation:**  \n",
      "  Train or fine-tune prompts/models to switch style (formal, casual, technical) based on contact seniority/profile.\n",
      "- **Implement A/B testing framework:**  \n",
      "  Automatically test different message variants to improve performance.\n",
      "\n",
      "---\n",
      "\n",
      "### 4. Outreach Automation and Multi-Channel Sequencing\n",
      "- **Integrate with communication platforms:**  \n",
      "  - Email (e.g., via SMTP, SendGrid, or sales automation tools like Outreach.io, Salesloft)\n",
      "  - LinkedIn outreach automation tools or APIs\n",
      "  - CRM task reminders or calling tools\n",
      "- **Behavioral analytics:**  \n",
      "  Track opens, clicks, replies to dynamically adjust follow-up timing.\n",
      "- **Multi-step sequences:**  \n",
      "  Design branching logic to handle different recipient responses or no responses over time.\n",
      "- **Smart scheduling algorithms:**  \n",
      "  Use historical data/timezone/customer activity to optimize send times.\n",
      "\n",
      "---\n",
      "\n",
      "### 5. Follow-Up Management and Lead Escalations\n",
      "- **Response parsing:**  \n",
      "  Use NLP to understand reply intent (interest, objections, requests for info).\n",
      "- **Automated follow-ups:**  \n",
      "  Tailor follow-up messages based on previous interaction (e.g., send case studies if interested, overcome objections).\n",
      "- **Escalation rules:**  \n",
      "  When a lead is “hot” (e.g., positive reply indicating readiness), notify human sales team with full context and lead history.\n",
      "- **CRM syncing:**  \n",
      "  Automatically log replies, update lead statuses and notes.\n",
      "\n",
      "---\n",
      "\n",
      "### 6. Continuous Data Enrichment and CRM Updates\n",
      "- **Dynamic enrichment:**  \n",
      "  Periodically update lead/company profiles with new signals gathered mid-campaign.\n",
      "- **CRM integration:**  \n",
      "  Use APIs or middleware (Zapier, n8n, or custom connectors) to keep CRM records accurate and timely.\n",
      "- **Interaction logging:**  \n",
      "  Automatically log emails sent, responses received, call notes, LinkedIn touchpoints.\n",
      "\n",
      "---\n",
      "\n",
      "### 7. Analytics Dashboard & Optimization Loop\n",
      "- **Metrics collection:**  \n",
      "  Track open rates, reply rates, conversions, lead-to-opportunity rates.\n",
      "- **Analytics engine:**  \n",
      "  Correlate messaging variants, send times, channel effectiveness.\n",
      "- **Iterative optimization:**  \n",
      "  Use multi-armed bandit algorithms or reinforcement learning to optimize sequences.\n",
      "- **Reporting:**  \n",
      "  Present insights in dashboards for marketing and sales teams.\n",
      "\n",
      "---\n",
      "\n",
      "### 8. Technology Stack Suggestions\n",
      "- **AI Models:** GPT-4/ChatGPT or similar LLMs for NLP generation; possibly fine-tuned custom models.\n",
      "- **Data pipeline:** Airflow or Prefect for workflow orchestration; APIs/webhooks for data fetching.\n",
      "- **CRM & Outreach:** Salesforce, HubSpot, Outreach.io, Salesloft integrations.\n",
      "- **Automation:** Zapier, n8n, or custom scripts in Python/Node.js.\n",
      "- **Database:** PostgreSQL or NoSQL for lead data storage.\n",
      "- **Frontend:** React or similar UI to manage campaigns and view analytics.\n",
      "\n",
      "---\n",
      "\n",
      "### Summary Workflow Example\n",
      "\n",
      "| Step                       | Action                                                                                                 | AI Component                  |\n",
      "|----------------------------|--------------------------------------------------------------------------------------------------------|------------------------------|\n",
      "| Lead research              | Gather & enrich lead data using APIs & ML lead scoring                                                  | NLP + ML lead scoring model    |\n",
      "| Personalized messaging     | Generate customized emails/messages/scripts referencing specific recent events & pain points           | LLM prompt engineering        |\n",
      "| Outreach scheduling        | Send emails/LinkedIn messages at optimal times; manage multi-channel sequences                         | Behavioral analytics + scheduler |\n",
      "| Follow-up management       | Parse replies; send tailored follow-ups; escalate hot leads to humans                                  | NLP intent classification     |\n",
      "| CRM & Data updates         | Sync lead interactions and updated profiles automatically                                              | API integrations              |\n",
      "| Analytics & optimization   | Track KPIs; optimize messages/sequences using A/B testing and learning algorithms                      | Data analytics + optimization |\n",
      "\n",
      "---\n",
      "\n",
      "### Final Notes\n",
      "\n",
      "- **Human-in-the-loop:** Ensure manual oversight for quality check and handling complex leads.\n",
      "- **Compliance:** Address GDPR, CAN-SPAM, and LinkedIn outreach policies.\n",
      "- **Scalability:** Design modular components so parts (e.g., messaging model, scheduling) can be independently improved or swapped.\n",
      "- **Security:** Protect personal data and credentials.\n",
      "\n",
      "---\n",
      "\n",
      "If you want, I can help you build a prototype or provide code examples for any of these stages!\n"
     ]
    }
   ],
   "source": [
    "# First create the messages:\n",
    "\n",
    "messages = [{\"role\": \"user\", \"content\": \"which is the best business that Agentic AI can solve, for now give me only one idea\"}]\n",
    "\n",
    "# Then make the first call:\n",
    "\n",
    "response = openai.chat.completions.create(\n",
    "    model=\"gpt-4.1-mini\",\n",
    "    messages=messages\n",
    ")\n",
    "\n",
    "# Then read the business idea:\n",
    "\n",
    "business_idea = response.choices[0].message.content\n",
    "print(business_idea)\n",
    "\n",
    "# And repeat! In the next message, include the business idea within the message\n",
    "\n",
    "answer = openai.chat.completions.create(\n",
    "    model=\"gpt-4.1-mini\",\n",
    "    messages=[{\"role\": \"user\", \"content\": f\"In this {business_idea} what area to be specific can agentic AI solve\"}]\n",
    ")\n",
    "answer_idea = answer.choices[0].message.content\n",
    "print(answer_idea)\n",
    "\n",
    "solution = openai.chat.completions.create(\n",
    "    model=\"gpt-4.1-mini\",\n",
    "    messages=[{\"role\": \"user\", \"content\": f\"In this {answer_idea} how can you set up Agentic AI to solve this\"}]\n",
    ")\n",
    "solution_idea = solution.choices[0].message.content\n",
    "print(solution_idea)"
   ]
  },
  {
   "cell_type": "markdown",
   "metadata": {},
   "source": []
  }
 ],
 "metadata": {
  "kernelspec": {
   "display_name": ".venv",
   "language": "python",
   "name": "python3"
  },
  "language_info": {
   "codemirror_mode": {
    "name": "ipython",
    "version": 3
   },
   "file_extension": ".py",
   "mimetype": "text/x-python",
   "name": "python",
   "nbconvert_exporter": "python",
   "pygments_lexer": "ipython3",
   "version": "3.12.3"
  }
 },
 "nbformat": 4,
 "nbformat_minor": 2
}
